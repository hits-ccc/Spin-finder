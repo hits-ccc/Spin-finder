{
 "cells": [
  {
   "cell_type": "code",
   "execution_count": 1,
   "id": "be04c112-9358-43bb-ab7f-9666c5c42e16",
   "metadata": {},
   "outputs": [],
   "source": [
    "def spin_finder(PATH):\n",
    "    from rdkit import Chem\n",
    "    from openbabel import pybel\n",
    "    import pandas as pd\n",
    "    m = Chem.MolFromSmiles(next(pybel.readfile(\"xyz\",PATH)).write(format=\"smi\").split()[0].strip())\n",
    "    A=Chem.rdmolops.GetAdjacencyMatrix(m)\n",
    "    q=pd.DataFrame(A)\n",
    "    q=q.rename(columns={0:'↑'},index={0:'↑'})\n",
    "    for r in range(len(q)):\n",
    "        for u in range(len(q.iloc[r])):\n",
    "            try:\n",
    "                if q.iloc[r][u]==1 and q.index[r]=='↑':\n",
    "                    q=q.rename(index={u:'↓'},columns={u:'↓'})\n",
    "                elif q.iloc[r][u]==1 and q.index[r]=='↓':\n",
    "                    q=q.rename(index={u:'↑'},columns={u:'↑'})\n",
    "            except:\n",
    "                q\n",
    "    count = {}\n",
    "    for i in list(q.columns):\n",
    "        if not i in count:\n",
    "            count[i] = 1\n",
    "        else:\n",
    "            count[i] +=1\n",
    "    return(abs(count['↑']-count['↓'])+1)"
   ]

   "cell_type": "code",
   "execution_count": null,
   "id": "aab61706-4337-4a76-b361-85b7fd096665",
   "metadata": {},
   "outputs": [],
   "source": []
  }
 ],
 "metadata": {
  "kernelspec": {
   "display_name": "Python 3 (ipykernel)",
   "language": "python",
   "name": "python3"
  },
  "language_info": {
   "codemirror_mode": {
    "name": "ipython",
    "version": 3
   },
   "file_extension": ".py",
   "mimetype": "text/x-python",
   "name": "python",
   "nbconvert_exporter": "python",
   "pygments_lexer": "ipython3",
   "version": "3.9.7"
  }
 },
 "nbformat": 4,
 "nbformat_minor": 5
}
